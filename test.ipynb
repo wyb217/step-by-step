{
 "cells": [
  {
   "cell_type": "code",
   "execution_count": null,
   "metadata": {},
   "outputs": [],
   "source": [
    "# -*- coding: utf-8 -*-\n",
    " \n",
    "import random\n",
    " \n",
    "\"\"\"\n",
    "随机按比例拆分数据\n",
    "\"\"\"\n",
    " \n",
    "def split(all_list, shuffle=False, ratio=0.8):\n",
    "    num = len(all_list)\n",
    "    offset = int(num * ratio)\n",
    "    if num == 0 or offset < 1:\n",
    "        return [], all_list\n",
    "    if shuffle:\n",
    "        random.shuffle(all_list)  # 列表随机排序\n",
    "    train = all_list[:offset]\n",
    "    test = all_list[offset:]\n",
    "    return train, test\n",
    " \n",
    " \n",
    "def write_split(film, train, test):\n",
    "    infilm = open(film, 'r', encoding='utf-8')\n",
    "    tainfilm = open(train, 'w', encoding='utf-8')\n",
    "    testfilm = open(test, 'w', encoding='utf-8')\n",
    "    li = []\n",
    "    for datas in infilm.readlines():\n",
    "        datas = datas.replace('\\n', '')\n",
    "        li.append(datas)\n",
    "    traindatas, testdatas = split(li, shuffle=True, ratio=0.8)\n",
    "    for traindata in traindatas:\n",
    "        tainfilm.write(traindata + '\\n')\n",
    "    for testdata in testdatas:\n",
    "        testfilm.write(testdata + '\\n')\n",
    "    infilm.close()\n",
    "    tainfilm.close()\n",
    "    testfilm.close()\n",
    " \n",
    " \n",
    "if __name__ == \"__main__\":\n",
    "    write_split('output.bioes', 'output.bioes.train', 'output.bioes.test')"
   ]
  }
 ],
 "metadata": {
  "kernelspec": {
   "display_name": "torch2.1",
   "language": "python",
   "name": "python3"
  },
  "language_info": {
   "codemirror_mode": {
    "name": "ipython",
    "version": 3
   },
   "file_extension": ".py",
   "mimetype": "text/x-python",
   "name": "python",
   "nbconvert_exporter": "python",
   "pygments_lexer": "ipython3",
   "version": "3.9.18"
  }
 },
 "nbformat": 4,
 "nbformat_minor": 2
}
